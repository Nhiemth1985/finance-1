{
 "cells": [
  {
   "cell_type": "code",
   "execution_count": 23,
   "id": "c7c66cb2",
   "metadata": {
    "scrolled": false
   },
   "outputs": [
    {
     "name": "stdout",
     "output_type": "stream",
     "text": [
      "Expected annual return: 177.0%\n",
      "Annual volatility: 25.1%\n",
      "Sharpe Ratio: 6.97\n",
      "INTEGER:\n",
      "Discrete allocation {'KT': 22, 'TEF': 3, 'SLM': 37, 'ASO': 21, 'TGH': 10, 'ATKR': 2, 'KLIC': 5, 'STX': 3, 'NUE': 1}\n",
      "Funds remaining: $0.10\n",
      "GREEDY:\n",
      "Discrete allocation {'ASO': 20, 'SLM': 37, 'TGH': 10, 'KT': 21, 'STX': 3, 'KLIC': 4, 'NUE': 2, 'ATKR': 2}\n",
      "Funds remaining: $11.32\n"
     ]
    }
   ],
   "source": [
    "import pandas as pd\n",
    "import yfinance as yf\n",
    "import pypfopt\n",
    "\n",
    "from pandas_datareader import DataReader\n",
    "from pypfopt import plotting\n",
    "from pypfopt import EfficientFrontier\n",
    "from pypfopt import risk_models\n",
    "from pypfopt import expected_returns\n",
    "from pypfopt.discrete_allocation import DiscreteAllocation, get_latest_prices\n",
    "from datetime import date\n",
    "from dateutil.relativedelta import relativedelta\n",
    "from yahooquery import Screener\n",
    "\n",
    "start_date = date.today() - relativedelta(months = 12)\n",
    "end_date = date.today()\n",
    "\n",
    "s = Screener()\n",
    "data = s.get_screeners('undervalued_growth_stocks', count = 100)\n",
    "data_unsorted = pd.DataFrame(data['undervalued_growth_stocks']['quotes'])\n",
    "data_sorted = data_unsorted.sort_values(by='averageAnalystRating', ascending=True)\n",
    "data_ssorted = data_sorted.dropna(subset=['averageAnalystRating'])\n",
    "data_sssorted = data_ssorted.query('averageAnalystRating.str.contains(\"Buy\")',engine='python')\n",
    "df = pd.DataFrame(data_sssorted,columns = ['symbol'])\n",
    "assets = df.values.tolist()\n",
    "\n",
    "data = pd.DataFrame()\n",
    "for asset in assets:\n",
    "  data[asset] = DataReader(asset, 'yahoo', start_date, end_date)['Close']\n",
    "\n",
    "mu = expected_returns.mean_historical_return(data)\n",
    "S = risk_models.sample_cov(data)\n",
    "ef = EfficientFrontier(mu, S)\n",
    "raw_weights = ef.max_sharpe()\n",
    "cleaned_weights = ef.clean_weights()\n",
    "ef.portfolio_performance(verbose=True)\n",
    "latest_prices = get_latest_prices(data)\n",
    "da = DiscreteAllocation(cleaned_weights, latest_prices, total_portfolio_value = 3132.54)\n",
    "allocation, leftover = da.lp_portfolio()\n",
    "allocation2, leftover2 = da.greedy_portfolio()\n",
    "\n",
    "print(\"INTEGER:\")\n",
    "print(\"Discrete allocation\", allocation)\n",
    "print(\"Funds remaining: ${:.2f}\".format(leftover))\n",
    "print(\"GREEDY:\")\n",
    "print(\"Discrete allocation\", allocation2)\n",
    "print(\"Funds remaining: ${:.2f}\".format(leftover2))\n",
    "\n",
    "#pypfopt.plotting.plot_covariance(S)"
   ]
  }
 ],
 "metadata": {
  "kernelspec": {
   "display_name": "Python 3",
   "language": "python",
   "name": "python3"
  },
  "language_info": {
   "codemirror_mode": {
    "name": "ipython",
    "version": 3
   },
   "file_extension": ".py",
   "mimetype": "text/x-python",
   "name": "python",
   "nbconvert_exporter": "python",
   "pygments_lexer": "ipython3",
   "version": "3.8.8"
  }
 },
 "nbformat": 4,
 "nbformat_minor": 5
}
