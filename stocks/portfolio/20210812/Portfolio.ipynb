{
 "cells": [
  {
   "cell_type": "code",
   "execution_count": 3,
   "id": "c7c66cb2",
   "metadata": {
    "scrolled": true
   },
   "outputs": [
    {
     "name": "stdout",
     "output_type": "stream",
     "text": [
      "Expected annual return: 29.2%\n",
      "Annual volatility: 31.9%\n",
      "Sharpe Ratio: 0.85\n",
      "INTEGER:\n",
      "Discrete allocation {'AAPL': 21}\n",
      "Funds remaining: $69.48\n",
      "GREEDY:\n",
      "Discrete allocation {'AAPL': 21}\n",
      "Funds remaining: $69.48\n"
     ]
    }
   ],
   "source": [
    "import pandas as pd\n",
    "import yfinance as yf\n",
    "import pypfopt\n",
    "\n",
    "from pandas_datareader import DataReader\n",
    "from pypfopt import plotting\n",
    "from pypfopt import EfficientFrontier\n",
    "from pypfopt import risk_models\n",
    "from pypfopt import expected_returns\n",
    "from pypfopt.discrete_allocation import DiscreteAllocation, get_latest_prices\n",
    "from datetime import date\n",
    "from dateutil.relativedelta import relativedelta\n",
    "\n",
    "start_date = date.today() - relativedelta(months = 12)\n",
    "end_date = date.today()\n",
    "\n",
    "assets = ['AAPL','SPOT']\n",
    "\n",
    "data = pd.DataFrame()\n",
    "\n",
    "for asset in assets:\n",
    "  data[asset] = DataReader(asset, 'yahoo', start_date, end_date)['Close']\n",
    "\n",
    "mu = expected_returns.mean_historical_return(data)\n",
    "S = risk_models.sample_cov(data)\n",
    "ef = EfficientFrontier(mu, S)\n",
    "raw_weights = ef.max_sharpe()\n",
    "cleaned_weights = ef.clean_weights()\n",
    "ef.portfolio_performance(verbose=True)\n",
    "latest_prices = get_latest_prices(data)\n",
    "da = DiscreteAllocation(cleaned_weights, latest_prices, total_portfolio_value = 3132.54)\n",
    "allocation, leftover = da.lp_portfolio()\n",
    "allocation2, leftover2 = da.greedy_portfolio()\n",
    "\n",
    "print(\"INTEGER:\")\n",
    "print(\"Discrete allocation\", allocation)\n",
    "print(\"Funds remaining: ${:.2f}\".format(leftover))\n",
    "print(\"GREEDY:\")\n",
    "print(\"Discrete allocation\", allocation2)\n",
    "print(\"Funds remaining: ${:.2f}\".format(leftover2))\n",
    "\n",
    "#pypfopt.plotting.plot_covariance(S)"
   ]
  }
 ],
 "metadata": {
  "kernelspec": {
   "display_name": "Python 3",
   "language": "python",
   "name": "python3"
  },
  "language_info": {
   "codemirror_mode": {
    "name": "ipython",
    "version": 3
   },
   "file_extension": ".py",
   "mimetype": "text/x-python",
   "name": "python",
   "nbconvert_exporter": "python",
   "pygments_lexer": "ipython3",
   "version": "3.8.8"
  }
 },
 "nbformat": 4,
 "nbformat_minor": 5
}
