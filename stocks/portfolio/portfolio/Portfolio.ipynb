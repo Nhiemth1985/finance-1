{
 "cells": [
  {
   "cell_type": "code",
   "execution_count": 1,
   "id": "c7c66cb2",
   "metadata": {},
   "outputs": [],
   "source": [
    "# import modules\n",
    "\n",
    "import pandas as pd\n",
    "import yfinance as yf\n",
    "from pypfopt import EfficientFrontier\n",
    "from pypfopt import risk_models\n",
    "from pypfopt import expected_returns\n",
    "from pypfopt.discrete_allocation import DiscreteAllocation, get_latest_prices\n",
    "from datetime import date\n",
    "from dateutil.relativedelta import relativedelta"
   ]
  },
  {
   "cell_type": "code",
   "execution_count": 2,
   "id": "e82f568e",
   "metadata": {},
   "outputs": [],
   "source": [
    "# set dates\n",
    "\n",
    "start_date = date.today() + relativedelta(months = -12)\n",
    "end_date = date.today()"
   ]
  },
  {
   "cell_type": "code",
   "execution_count": 3,
   "id": "ec2cbf6d",
   "metadata": {},
   "outputs": [],
   "source": [
    "assets = \"F AAPL\""
   ]
  },
  {
   "cell_type": "code",
   "execution_count": 4,
   "id": "1d983799",
   "metadata": {},
   "outputs": [
    {
     "name": "stdout",
     "output_type": "stream",
     "text": [
      "[*********************100%***********************]  2 of 2 completed\n"
     ]
    }
   ],
   "source": [
    "# download data\n",
    "\n",
    "data = yf.download(assets, start = start_date, end = end_date)['Close']"
   ]
  },
  {
   "cell_type": "code",
   "execution_count": 5,
   "id": "c20cf8e1",
   "metadata": {},
   "outputs": [
    {
     "name": "stdout",
     "output_type": "stream",
     "text": [
      "OrderedDict([('AAPL', 0.36479), ('F', 0.63521)])\n",
      "Expected annual return: 87.5%\n",
      "Annual volatility: 28.1%\n",
      "Sharpe Ratio: 3.04\n"
     ]
    },
    {
     "data": {
      "text/plain": [
       "(0.8746185324004488, 0.2809754713299517, 3.041612594705335)"
      ]
     },
     "execution_count": 5,
     "metadata": {},
     "output_type": "execute_result"
    }
   ],
   "source": [
    "# calculate expected returns and sample covariance\n",
    "\n",
    "mu = expected_returns.mean_historical_return(data)\n",
    "S = risk_models.sample_cov(data)\n",
    "\n",
    "# optimize for maximal Sharpe ratio\n",
    "\n",
    "ef = EfficientFrontier(mu, S)\n",
    "raw_weights = ef.max_sharpe()\n",
    "cleaned_weights = ef.clean_weights()\n",
    "print(cleaned_weights)\n",
    "ef.portfolio_performance(verbose=True)"
   ]
  },
  {
   "cell_type": "code",
   "execution_count": 6,
   "id": "ea7ae512",
   "metadata": {
    "scrolled": true
   },
   "outputs": [
    {
     "name": "stdout",
     "output_type": "stream",
     "text": [
      "Integer\n",
      "Discrete allocation: {'AAPL': 2, 'F': 46}\n",
      "Funds remaining: $58.58\n",
      "\n",
      "Greedy\n",
      "Discrete allocation: {'F': 45, 'AAPL': 2}\n",
      "Funds remaining: $72.59\n"
     ]
    }
   ],
   "source": [
    "# optimization\n",
    "\n",
    "latest_prices = get_latest_prices(data)\n",
    "\n",
    "da = DiscreteAllocation(cleaned_weights, latest_prices, total_portfolio_value = 1000)\n",
    "\n",
    "allocation, leftover = da.lp_portfolio()\n",
    "allocation2, leftover2 = da.greedy_portfolio()\n",
    "\n",
    "print(\"Integer\")\n",
    "print(\"Discrete allocation:\", allocation)\n",
    "print(\"Funds remaining: ${:.2f}\".format(leftover))\n",
    "print(\"\")\n",
    "print(\"Greedy\")\n",
    "print(\"Discrete allocation:\", allocation2)\n",
    "print(\"Funds remaining: ${:.2f}\".format(leftover2))"
   ]
  }
 ],
 "metadata": {
  "kernelspec": {
   "display_name": "Python 3",
   "language": "python",
   "name": "python3"
  },
  "language_info": {
   "codemirror_mode": {
    "name": "ipython",
    "version": 3
   },
   "file_extension": ".py",
   "mimetype": "text/x-python",
   "name": "python",
   "nbconvert_exporter": "python",
   "pygments_lexer": "ipython3",
   "version": "3.8.8"
  }
 },
 "nbformat": 4,
 "nbformat_minor": 5
}
